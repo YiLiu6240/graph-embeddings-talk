{
 "cells": [
  {
   "cell_type": "markdown",
   "metadata": {
    "slideshow": {
     "slide_type": "slide"
    }
   },
   "source": [
    "# Graph Embeddings\n",
    "\n",
    "Bioinformatics reading group, 8 Nov 2019\n",
    "\n",
    "Yi Liu"
   ]
  },
  {
   "cell_type": "code",
   "execution_count": 1,
   "metadata": {
    "slideshow": {
     "slide_type": "skip"
    }
   },
   "outputs": [],
   "source": [
    "%load_ext autoreload\n",
    "%autoreload 2\n",
    "%matplotlib inline\n",
    "\n",
    "import warnings\n",
    "warnings.filterwarnings('ignore')"
   ]
  },
  {
   "cell_type": "markdown",
   "metadata": {
    "slideshow": {
     "slide_type": "subslide"
    }
   },
   "source": [
    "Outline\n",
    "\n",
    "- DeepWalk: intro to graph embeddings\n",
    "- DeepWalk example\n",
    "- Node2Vec\n",
    "- DeepGL\n",
    "- References"
   ]
  },
  {
   "cell_type": "markdown",
   "metadata": {
    "slideshow": {
     "slide_type": "slide"
    }
   },
   "source": [
    "## Graph and graph embeddings"
   ]
  },
  {
   "cell_type": "markdown",
   "metadata": {
    "slideshow": {
     "slide_type": "subslide"
    }
   },
   "source": [
    "$$\n",
    "G = (V, E, X, Y)    \n",
    "$$\n",
    "\n",
    "$$\n",
    "f(X) \\rightarrow Y\n",
    "$$\n",
    "- $V$: vertices\n",
    "- $E$: edges\n",
    "- $X$: attributes\n",
    "- $Y$: labels\n",
    "\n",
    "![](assets/img/graph-example.png)"
   ]
  },
  {
   "cell_type": "markdown",
   "metadata": {
    "slideshow": {
     "slide_type": "slide"
    }
   },
   "source": [
    "## Word2Vec (SkipGram)"
   ]
  },
  {
   "cell_type": "markdown",
   "metadata": {
    "slideshow": {
     "slide_type": "subslide"
    }
   },
   "source": [
    "![](assets/img/skipgram-flow.png)"
   ]
  },
  {
   "cell_type": "markdown",
   "metadata": {
    "slideshow": {
     "slide_type": "subslide"
    }
   },
   "source": [
    "![](assets/img/skipgram-context-window.png)"
   ]
  },
  {
   "cell_type": "markdown",
   "metadata": {
    "slideshow": {
     "slide_type": "slide"
    }
   },
   "source": [
    "## DeepWalk\n",
    "From sentence embeddings to graph embeddings"
   ]
  },
  {
   "cell_type": "markdown",
   "metadata": {
    "slideshow": {
     "slide_type": "subslide"
    }
   },
   "source": [
    "![](assets/img/deepwalk-flow.png)"
   ]
  },
  {
   "cell_type": "markdown",
   "metadata": {
    "slideshow": {
     "slide_type": "subslide"
    }
   },
   "source": [
    "![](assets/img/deepwalk-algo.png)"
   ]
  },
  {
   "cell_type": "markdown",
   "metadata": {
    "slideshow": {
     "slide_type": "subslide"
    }
   },
   "source": [
    "![](assets/img/skipgram-algo.png)"
   ]
  },
  {
   "cell_type": "markdown",
   "metadata": {
    "slideshow": {
     "slide_type": "subslide"
    }
   },
   "source": [
    "![](assets/img/graph-example.png)"
   ]
  },
  {
   "cell_type": "code",
   "execution_count": 2,
   "metadata": {
    "slideshow": {
     "slide_type": "subslide"
    }
   },
   "outputs": [
    {
     "data": {
      "image/png": "[encoded data removed]",
      "text/plain": [
       "<Figure size 432x288 with 1 Axes>"
      ]
     },
     "metadata": {},
     "output_type": "display_data"
    }
   ],
   "source": [
    "import numpy as np\n",
    "import networkx as nx\n",
    "\n",
    "nx_graph = nx.Graph()\n",
    "nodes = list(np.arange(1, 14))\n",
    "# fmt: off\n",
    "edges = [\n",
    "    (1, 2), (2, 3), (3, 4), (4, 5),\n",
    "    (1, 6), (2, 6), (3, 6), (4, 6), (5, 6),\n",
    "    (6, 7),\n",
    "    (7, 8),\n",
    "    (9, 8), (10, 8), (11, 8), (12, 8), (13, 8),\n",
    "    (9, 10), (10, 11), (11, 12), (12, 13),\n",
    "]\n",
    "# fmt: on\n",
    "nx_graph.add_nodes_from(nodes)\n",
    "nx_graph.add_edges_from(edges)\n",
    "nx.draw(nx_graph, with_labels=True, node_color=\"white\")"
   ]
  },
  {
   "cell_type": "code",
   "execution_count": 3,
   "metadata": {
    "slideshow": {
     "slide_type": "subslide"
    }
   },
   "outputs": [],
   "source": [
    "# https://github.com/phanein/deepwalk/blob/master/deepwalk/__main__.py\n",
    "import random\n",
    "\n",
    "import deepwalk\n",
    "from deepwalk import walks as serialized_walks\n",
    "from deepwalk.skipgram import Skipgram\n",
    "from gensim.models import Word2Vec\n",
    "from six import iterkeys"
   ]
  },
  {
   "cell_type": "code",
   "execution_count": 4,
   "metadata": {
    "slideshow": {
     "slide_type": "subslide"
    }
   },
   "outputs": [
    {
     "data": {
      "text/plain": [
       "Graph(list,\n",
       "      {1: [2, 6],\n",
       "       2: [1, 3, 6],\n",
       "       3: [2, 4, 6],\n",
       "       4: [3, 5, 6],\n",
       "       5: [4, 6],\n",
       "       6: [1, 2, 3, 4, 5, 7],\n",
       "       7: [6, 8],\n",
       "       8: [7, 9, 10, 11, 12, 13],\n",
       "       9: [8, 10],\n",
       "       10: [8, 9, 11],\n",
       "       11: [8, 10, 12],\n",
       "       12: [8, 11, 13],\n",
       "       13: [8, 12]})"
      ]
     },
     "execution_count": 4,
     "metadata": {},
     "output_type": "execute_result"
    }
   ],
   "source": [
    "deepwalk_graph = deepwalk.graph.Graph()\n",
    "\n",
    "for idx, x in enumerate(nx_graph.nodes()):\n",
    "    for y in iterkeys(nx_graph[x]):\n",
    "        deepwalk_graph[x].append(y)\n",
    "        \n",
    "deepwalk_graph.make_undirected()\n",
    "deepwalk_graph"
   ]
  },
  {
   "cell_type": "code",
   "execution_count": 5,
   "metadata": {
    "slideshow": {
     "slide_type": "subslide"
    }
   },
   "outputs": [],
   "source": [
    "# hyper-params\n",
    "\n",
    "# num random walks per node: 80\n",
    "NUM_WALKS = 80\n",
    "# length of one random walk: 40\n",
    "WALK_LENGTH = 40\n",
    "# window size 10\n",
    "WINDOW_SIZE = 10\n",
    "# embedding dim 128\n",
    "EMBEDDING_DIM = 128"
   ]
  },
  {
   "cell_type": "code",
   "execution_count": 6,
   "metadata": {
    "slideshow": {
     "slide_type": "subslide"
    }
   },
   "outputs": [
    {
     "name": "stdout",
     "output_type": "stream",
     "text": [
      "[['9' '10' '11' ... '12' '13' '8']\n",
      " ['6' '5' '6' ... '8' '10' '11']\n",
      " ['8' '10' '11' ... '9' '10' '9']\n",
      " ...\n",
      " ['13' '8' '10' ... '6' '4' '6']\n",
      " ['6' '4' '5' ... '7' '8' '12']\n",
      " ['8' '12' '13' ... '9' '10' '8']]\n",
      "(1040, 40)\n"
     ]
    }
   ],
   "source": [
    "walks = deepwalk.graph.build_deepwalk_corpus(\n",
    "    deepwalk_graph,\n",
    "    num_paths=NUM_WALKS,\n",
    "    path_length=WALK_LENGTH,\n",
    "    alpha=0,\n",
    "    rand=random.Random(123)\n",
    ")\n",
    "print(np.array(walks))\n",
    "print(np.array(walks).shape)"
   ]
  },
  {
   "cell_type": "code",
   "execution_count": 7,
   "metadata": {
    "slideshow": {
     "slide_type": "subslide"
    }
   },
   "outputs": [],
   "source": [
    "model = Word2Vec(\n",
    "    walks,\n",
    "    size=EMBEDDING_DIM,\n",
    "    window=WINDOW_SIZE,\n",
    "    min_count=0,\n",
    "    sg=1,\n",
    "    hs=1,\n",
    "    workers=1,\n",
    ")"
   ]
  },
  {
   "cell_type": "code",
   "execution_count": 8,
   "metadata": {
    "slideshow": {
     "slide_type": "subslide"
    }
   },
   "outputs": [
    {
     "data": {
      "text/plain": [
       "{'9': <gensim.models.keyedvectors.Vocab at 0x1a1d7b6810>,\n",
       " '10': <gensim.models.keyedvectors.Vocab at 0x1a1d7b6890>,\n",
       " '11': <gensim.models.keyedvectors.Vocab at 0x1a1d7b68d0>,\n",
       " '8': <gensim.models.keyedvectors.Vocab at 0x1a1d7b6910>,\n",
       " '7': <gensim.models.keyedvectors.Vocab at 0x1a1d7b6990>,\n",
       " '6': <gensim.models.keyedvectors.Vocab at 0x1a1d7b6a10>,\n",
       " '1': <gensim.models.keyedvectors.Vocab at 0x1a1d7b6a50>,\n",
       " '3': <gensim.models.keyedvectors.Vocab at 0x1a1d7b6a90>,\n",
       " '2': <gensim.models.keyedvectors.Vocab at 0x1a1d7b6950>,\n",
       " '4': <gensim.models.keyedvectors.Vocab at 0x1a1d7b69d0>,\n",
       " '5': <gensim.models.keyedvectors.Vocab at 0x1a1d7b6ad0>,\n",
       " '13': <gensim.models.keyedvectors.Vocab at 0x1a1d7b6b10>,\n",
       " '12': <gensim.models.keyedvectors.Vocab at 0x1a1d7b6b50>}"
      ]
     },
     "execution_count": 8,
     "metadata": {},
     "output_type": "execute_result"
    }
   ],
   "source": [
    "# nodes, or \"vocabulary\"\n",
    "model.wv.vocab"
   ]
  },
  {
   "cell_type": "code",
   "execution_count": 9,
   "metadata": {
    "slideshow": {
     "slide_type": "subslide"
    }
   },
   "outputs": [
    {
     "data": {
      "text/plain": [
       "array([-0.00095934, -0.14086728,  0.07352262,  0.13970056, -0.0497438 ,\n",
       "       -0.2926532 , -0.06589775, -0.10685308,  0.18745854, -0.1012044 ,\n",
       "       -0.03285081,  0.29395282, -0.01746033, -0.04551164, -0.07437321,\n",
       "        0.00040195,  0.08093731,  0.04620257,  0.05116988,  0.02569078,\n",
       "       -0.12490681,  0.02504689,  0.1027611 , -0.08071101, -0.24925862,\n",
       "        0.12331013, -0.13090487, -0.1167615 ,  0.15161267,  0.00957596,\n",
       "       -0.12357164,  0.08300231,  0.0844809 , -0.12852252, -0.20644854,\n",
       "        0.11501899,  0.26970205,  0.07551242, -0.11944196, -0.06687455,\n",
       "       -0.1480233 , -0.18081237,  0.17705128, -0.07423408, -0.08211829,\n",
       "        0.26821792,  0.0630434 , -0.23834868, -0.00506505,  0.07663959,\n",
       "       -0.08388641,  0.1582118 , -0.07193353,  0.01382565,  0.00668014,\n",
       "        0.01537236, -0.07911585,  0.09093268,  0.04782807, -0.04677264,\n",
       "       -0.23164956, -0.17346524,  0.12032165, -0.0476453 , -0.13943444,\n",
       "       -0.1260258 ,  0.13450332,  0.10808325, -0.01826159, -0.3575986 ,\n",
       "        0.15718068, -0.04420409, -0.11785912,  0.10133453, -0.19064085,\n",
       "       -0.20066042,  0.08204125,  0.06170731,  0.16305035, -0.13007683,\n",
       "       -0.03484008, -0.14941491, -0.09808226,  0.08392007,  0.046721  ,\n",
       "        0.01600912, -0.07195069,  0.01543452,  0.13940337, -0.07913083,\n",
       "       -0.184816  , -0.0933992 , -0.07203937, -0.07271566,  0.11571857,\n",
       "        0.00552847,  0.00289924, -0.0523177 ,  0.12037521, -0.09778723,\n",
       "       -0.03153525, -0.05874648,  0.08392701,  0.19099884, -0.00918258,\n",
       "        0.05699351, -0.04814161, -0.03177148,  0.00090648, -0.06779662,\n",
       "       -0.19197589,  0.12392153,  0.03059392, -0.21022129, -0.02727187,\n",
       "        0.13549924,  0.05740344,  0.00623336, -0.09875766,  0.04643035,\n",
       "       -0.10097225,  0.10052127,  0.06828507,  0.10290339,  0.1309135 ,\n",
       "        0.01477405,  0.08474117,  0.21653458], dtype=float32)"
      ]
     },
     "execution_count": 9,
     "metadata": {},
     "output_type": "execute_result"
    }
   ],
   "source": [
    "# \"word\" embeddings\n",
    "model.wv[\"1\"]"
   ]
  },
  {
   "cell_type": "code",
   "execution_count": 10,
   "metadata": {
    "slideshow": {
     "slide_type": "subslide"
    }
   },
   "outputs": [
    {
     "data": {
      "text/plain": [
       "[('3', 0.9698188304901123),\n",
       " ('6', 0.9323770999908447),\n",
       " ('2', 0.9054238796234131),\n",
       " ('4', 0.8182910084724426),\n",
       " ('5', 0.77535080909729),\n",
       " ('7', 0.6318682432174683),\n",
       " ('9', 0.05110911279916763),\n",
       " ('11', 0.05021246522665024),\n",
       " ('10', 0.03185462951660156),\n",
       " ('8', 0.02739347517490387)]"
      ]
     },
     "execution_count": 10,
     "metadata": {},
     "output_type": "execute_result"
    }
   ],
   "source": [
    "model.most_similar(\"1\")"
   ]
  },
  {
   "cell_type": "code",
   "execution_count": 11,
   "metadata": {
    "slideshow": {
     "slide_type": "subslide"
    }
   },
   "outputs": [
    {
     "data": {
      "image/png": "[encoded data removed]",
      "text/plain": [
       "<Figure size 432x288 with 1 Axes>"
      ]
     },
     "metadata": {},
     "output_type": "display_data"
    }
   ],
   "source": [
    "nx.draw(nx_graph, with_labels=True, node_color=\"white\")"
   ]
  },
  {
   "cell_type": "code",
   "execution_count": 12,
   "metadata": {
    "slideshow": {
     "slide_type": "subslide"
    }
   },
   "outputs": [
    {
     "data": {
      "image/png": "[encoded data removed]",
      "text/plain": [
       "<Figure size 432x288 with 1 Axes>"
      ]
     },
     "metadata": {
      "needs_background": "light"
     },
     "output_type": "display_data"
    }
   ],
   "source": [
    "# Visualisation of \"word\" embeddings using PCA\n",
    "from sklearn.decomposition import PCA\n",
    "from matplotlib import pyplot\n",
    "\n",
    "def plot_pca(model):\n",
    "    X = model[model.wv.vocab]\n",
    "    pca = PCA(n_components=2)\n",
    "    result = pca.fit_transform(X)\n",
    "\n",
    "    pyplot.scatter(result[:, 0], result[:, 1])\n",
    "    words = list(model.wv.vocab)\n",
    "    for i, word in enumerate(words):\n",
    "        pyplot.annotate(word, xy=(result[i, 0], result[i, 1]))\n",
    "    pyplot.show()\n",
    "    \n",
    "plot_pca(model)"
   ]
  },
  {
   "cell_type": "markdown",
   "metadata": {
    "slideshow": {
     "slide_type": "slide"
    }
   },
   "source": [
    "## Node2Vec"
   ]
  },
  {
   "cell_type": "markdown",
   "metadata": {
    "slideshow": {
     "slide_type": "subslide"
    }
   },
   "source": [
    "Search strategies\n",
    "- BFS: Breadth-first Sampling\n",
    "- DFS: Depth-first Sampling\n",
    "\n",
    "![](assets/img/dfs-bfs-0.jpg)"
   ]
  },
  {
   "cell_type": "markdown",
   "metadata": {
    "slideshow": {
     "slide_type": "subslide"
    }
   },
   "source": [
    "Node similarities in embedding space\n",
    "\n",
    "- Homophily: \n",
    "  - Similarity in terms of the neighbouring of nodes\n",
    "- Structural equivalence: \n",
    "  - Similarity in terms of structural roles; not emphasized on connectivity"
   ]
  },
  {
   "cell_type": "markdown",
   "metadata": {
    "slideshow": {
     "slide_type": "subslide"
    }
   },
   "source": [
    "![](assets/img/dfs-bfs-1.jpg)"
   ]
  },
  {
   "cell_type": "markdown",
   "metadata": {
    "slideshow": {
     "slide_type": "subslide"
    }
   },
   "source": [
    "2nd order random walk:\n",
    "\n",
    "- Mixture of BFS and DFS\n",
    "- Search bias $\\alpha$:\n",
    "  - $p$: likelihood of immediately revisiting a node \n",
    "  - $q$: larger $q$ biased towards reversion, smaller $q$ biased towards visiting new nodes\n",
    "- semi-supervised learning: decide p, q from labeled nodes\n"
   ]
  },
  {
   "cell_type": "markdown",
   "metadata": {
    "slideshow": {
     "slide_type": "subslide"
    }
   },
   "source": [
    "![](assets/img/node2vec-bias.png)"
   ]
  },
  {
   "cell_type": "markdown",
   "metadata": {
    "slideshow": {
     "slide_type": "subslide"
    }
   },
   "source": [
    "![](assets/img/node2vec-algo.png)"
   ]
  },
  {
   "cell_type": "code",
   "execution_count": 13,
   "metadata": {
    "slideshow": {
     "slide_type": "subslide"
    }
   },
   "outputs": [],
   "source": [
    "from node2vec import Node2Vec"
   ]
  },
  {
   "cell_type": "code",
   "execution_count": 14,
   "metadata": {
    "slideshow": {
     "slide_type": "fragment"
    }
   },
   "outputs": [
    {
     "name": "stderr",
     "output_type": "stream",
     "text": [
      "Computing transition probabilities: 100%|██████████| 13/13 [00:00<00:00, 7282.75it/s]\n",
      "Generating walks (CPU: 1): 100%|██████████| 80/80 [00:01<00:00, 63.13it/s]\n"
     ]
    }
   ],
   "source": [
    "node2vec = Node2Vec(\n",
    "    nx_graph, dimensions=EMBEDDING_DIM, walk_length=WALK_LENGTH, num_walks=NUM_WALKS\n",
    ")"
   ]
  },
  {
   "cell_type": "code",
   "execution_count": 15,
   "metadata": {
    "slideshow": {
     "slide_type": "subslide"
    }
   },
   "outputs": [
    {
     "name": "stdout",
     "output_type": "stream",
     "text": [
      "walks: \n",
      " [['9' '10' '11' ... '3' '4' '5']\n",
      " ['6' '3' '4' ... '2' '1' '2']\n",
      " ['12' '11' '12' ... '1' '2' '6']\n",
      " ...\n",
      " ['5' '4' '6' ... '8' '11' '8']\n",
      " ['10' '11' '12' ... '3' '6' '3']\n",
      " ['11' '8' '13' ... '8' '9' '10']] \n",
      "\n",
      " shape:  (1040, 40)\n"
     ]
    }
   ],
   "source": [
    "print(\n",
    "    \"walks: \\n\", np.array(node2vec.walks), \n",
    "    \"\\n\\n\",\n",
    "    \"shape: \", np.array(node2vec.walks).shape \n",
    ")"
   ]
  },
  {
   "cell_type": "code",
   "execution_count": 16,
   "metadata": {
    "slideshow": {
     "slide_type": "subslide"
    }
   },
   "outputs": [],
   "source": [
    "model = node2vec.fit(window=WINDOW_SIZE, min_count=0)"
   ]
  },
  {
   "cell_type": "code",
   "execution_count": 17,
   "metadata": {
    "slideshow": {
     "slide_type": "subslide"
    }
   },
   "outputs": [
    {
     "data": {
      "text/plain": [
       "{'9': <gensim.models.keyedvectors.Vocab at 0x1a1e4f6710>,\n",
       " '10': <gensim.models.keyedvectors.Vocab at 0x1a1e4f6750>,\n",
       " '11': <gensim.models.keyedvectors.Vocab at 0x1a1e4f6790>,\n",
       " '8': <gensim.models.keyedvectors.Vocab at 0x1a1e4f6810>,\n",
       " '7': <gensim.models.keyedvectors.Vocab at 0x1a1e4f6890>,\n",
       " '6': <gensim.models.keyedvectors.Vocab at 0x1a1e4f6910>,\n",
       " '2': <gensim.models.keyedvectors.Vocab at 0x1a1e4f6950>,\n",
       " '5': <gensim.models.keyedvectors.Vocab at 0x1a1e4f6990>,\n",
       " '4': <gensim.models.keyedvectors.Vocab at 0x1a1e4f6850>,\n",
       " '3': <gensim.models.keyedvectors.Vocab at 0x1a1e4f68d0>,\n",
       " '1': <gensim.models.keyedvectors.Vocab at 0x1a1e4f69d0>,\n",
       " '12': <gensim.models.keyedvectors.Vocab at 0x1a1e4f6a10>,\n",
       " '13': <gensim.models.keyedvectors.Vocab at 0x1a1e4f6a50>}"
      ]
     },
     "execution_count": 17,
     "metadata": {},
     "output_type": "execute_result"
    }
   ],
   "source": [
    "model.wv.vocab"
   ]
  },
  {
   "cell_type": "code",
   "execution_count": 18,
   "metadata": {
    "slideshow": {
     "slide_type": "subslide"
    }
   },
   "outputs": [
    {
     "data": {
      "image/png": "[encoded data removed]",
      "text/plain": [
       "<Figure size 432x288 with 1 Axes>"
      ]
     },
     "metadata": {
      "needs_background": "light"
     },
     "output_type": "display_data"
    }
   ],
   "source": [
    "plot_pca(model)"
   ]
  },
  {
   "cell_type": "markdown",
   "metadata": {
    "slideshow": {
     "slide_type": "slide"
    }
   },
   "source": [
    "## EpiGraphDB"
   ]
  },
  {
   "cell_type": "markdown",
   "metadata": {
    "slideshow": {
     "slide_type": "subslide"
    }
   },
   "source": [
    "http://epigraphdb.org/gallery/?name=efo_leukemia&type=2d\n",
    "\n",
    "![](assets/img/efo_leukemia.png)"
   ]
  },
  {
   "cell_type": "code",
   "execution_count": 19,
   "metadata": {
    "slideshow": {
     "slide_type": "subslide"
    }
   },
   "outputs": [],
   "source": [
    "import json\n",
    "\n",
    "with open(\"assets/epigraphdb_efo_leukemia.json\", \"r\") as f:\n",
    "    epigraphdb_data = json.load(f)"
   ]
  },
  {
   "cell_type": "code",
   "execution_count": 20,
   "metadata": {
    "slideshow": {
     "slide_type": "subslide"
    }
   },
   "outputs": [
    {
     "name": "stdout",
     "output_type": "stream",
     "text": [
      "[{'id': 44,\n",
      "  'label': 'Diagnoses - secondary ICD10: Y91.9 Alcohol involvement, not '\n",
      "           'otherwise specified'},\n",
      " {'id': 37,\n",
      "  'label': 'Diagnoses - secondary ICD9: 59979 Haematuria (not otherwise '\n",
      "           'specified)'},\n",
      " {'id': 31,\n",
      "  'label': 'Diagnoses - main ICD10: J40 Bronchitis, not specified as acute or '\n",
      "           'chronic'}]\n",
      "[{'from': 57, 'to': 69}, {'from': 57, 'to': 71}, {'from': 57, 'to': 70}]\n"
     ]
    }
   ],
   "source": [
    "from pprint import pprint\n",
    "pprint(epigraphdb_data[\"nodes\"][:3])\n",
    "pprint(epigraphdb_data[\"edges\"][:3])"
   ]
  },
  {
   "cell_type": "code",
   "execution_count": 21,
   "metadata": {
    "slideshow": {
     "slide_type": "subslide"
    }
   },
   "outputs": [
    {
     "data": {
      "image/png": "[encoded data removed]",
      "text/plain": [
       "<Figure size 432x288 with 1 Axes>"
      ]
     },
     "metadata": {},
     "output_type": "display_data"
    }
   ],
   "source": [
    "epigraphdb_graph = nx.Graph()\n",
    "epigraphdb_graph.add_nodes_from([item[\"id\"] for item in epigraphdb_data[\"nodes\"]])\n",
    "epigraphdb_graph.add_edges_from([(item[\"from\"], item[\"to\"]) for item in epigraphdb_data[\"edges\"]])\n",
    "nx.draw(epigraphdb_graph, with_labels=True, node_color=\"white\")"
   ]
  },
  {
   "cell_type": "code",
   "execution_count": 22,
   "metadata": {
    "slideshow": {
     "slide_type": "subslide"
    }
   },
   "outputs": [
    {
     "name": "stderr",
     "output_type": "stream",
     "text": [
      "Computing transition probabilities: 100%|██████████| 91/91 [00:00<00:00, 7093.80it/s]\n",
      "Generating walks (CPU: 1): 100%|██████████| 80/80 [00:09<00:00,  8.67it/s]\n"
     ]
    }
   ],
   "source": [
    "epigraphdb_node2vec = Node2Vec(\n",
    "    epigraphdb_graph, dimensions=EMBEDDING_DIM, walk_length=WALK_LENGTH, num_walks=NUM_WALKS\n",
    ")"
   ]
  },
  {
   "cell_type": "code",
   "execution_count": 23,
   "metadata": {
    "slideshow": {
     "slide_type": "subslide"
    }
   },
   "outputs": [],
   "source": [
    "epigraphdb_model = epigraphdb_node2vec.fit(window=WINDOW_SIZE, min_count=0)"
   ]
  },
  {
   "cell_type": "code",
   "execution_count": 24,
   "metadata": {
    "slideshow": {
     "slide_type": "subslide"
    }
   },
   "outputs": [
    {
     "data": {
      "image/png": "[encoded data removed]",
      "text/plain": [
       "<Figure size 432x288 with 1 Axes>"
      ]
     },
     "metadata": {
      "needs_background": "light"
     },
     "output_type": "display_data"
    }
   ],
   "source": [
    "plot_pca(epigraphdb_model)"
   ]
  },
  {
   "cell_type": "code",
   "execution_count": 25,
   "metadata": {
    "slideshow": {
     "slide_type": "subslide"
    }
   },
   "outputs": [
    {
     "data": {
      "text/plain": [
       "[('45', 0.7994406819343567),\n",
       " ('2', 0.7983152866363525),\n",
       " ('20', 0.7964375019073486),\n",
       " ('47', 0.7630603909492493),\n",
       " ('8', 0.7575975656509399),\n",
       " ('13', 0.7530874013900757),\n",
       " ('50', 0.7519896626472473),\n",
       " ('1', 0.746828019618988),\n",
       " ('33', 0.7092547416687012),\n",
       " ('9', 0.7086656093597412)]"
      ]
     },
     "execution_count": 25,
     "metadata": {},
     "output_type": "execute_result"
    }
   ],
   "source": [
    "epigraphdb_model.most_similar(\"24\")"
   ]
  },
  {
   "cell_type": "code",
   "execution_count": 26,
   "metadata": {
    "slideshow": {
     "slide_type": "subslide"
    }
   },
   "outputs": [
    {
     "data": {
      "image/png": "[encoded data removed]",
      "text/plain": [
       "<Figure size 432x288 with 1 Axes>"
      ]
     },
     "metadata": {
      "needs_background": "light"
     },
     "output_type": "display_data"
    }
   ],
   "source": [
    "from sklearn.manifold import TSNE\n",
    "\n",
    "def plot_tsne(model):\n",
    "    X = model[model.wv.vocab]\n",
    "    result = TSNE(n_components=2).fit_transform(X)\n",
    "    \n",
    "    pyplot.scatter(result[:, 0], result[:, 1])\n",
    "    words = list(model.wv.vocab)\n",
    "    for i, word in enumerate(words):\n",
    "        pyplot.annotate(word, xy=(result[i, 0], result[i, 1]))\n",
    "    pyplot.show()\n",
    "    \n",
    "plot_tsne(epigraphdb_model)"
   ]
  },
  {
   "cell_type": "markdown",
   "metadata": {
    "slideshow": {
     "slide_type": "slide"
    }
   },
   "source": [
    "## References\n",
    "\n",
    "- DeepWalk: https://arxiv.org/abs/1403.6652\n",
    "- Node2Vec: https://cs.stanford.edu/~jure/pubs/node2vec-kdd16.pdf\n",
    "- http://media.cs.tsinghua.edu.cn/~multimedia/cuipeng/papers/Network%20Representation-Tutorial.pdf\n",
    "- https://medium.com/@_init_/an-illustrated-explanation-of-using-skipgram-to-encode-the-structure-of-a-graph-deepwalk-6220e304d71b\n",
    "- https://towardsdatascience.com/graph-embeddings-the-summary-cc6075aba007\n",
    "- https://towardsdatascience.com/node2vec-embeddings-for-graph-data-32a866340fef\n",
    "- https://neo4j.com/online-summit/session/graph-embeddings-machine-learning-ml"
   ]
  }
 ],
 "metadata": {
  "kernelspec": {
   "display_name": "Python 3",
   "language": "python",
   "name": "python3"
  },
  "language_info": {
   "codemirror_mode": {
    "name": "ipython",
    "version": 3
   },
   "file_extension": ".py",
   "mimetype": "text/x-python",
   "name": "python",
   "nbconvert_exporter": "python",
   "pygments_lexer": "ipython3",
   "version": "3.7.5"
  }
 },
 "nbformat": 4,
 "nbformat_minor": 4
}
